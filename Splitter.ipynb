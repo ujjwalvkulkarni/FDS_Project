{
  "nbformat": 4,
  "nbformat_minor": 0,
  "metadata": {
    "colab": {
      "name": "Splitter.ipynb",
      "provenance": []
    },
    "kernelspec": {
      "name": "python3",
      "display_name": "Python 3"
    },
    "language_info": {
      "name": "python"
    }
  },
  "cells": [
    {
      "cell_type": "code",
      "metadata": {
        "id": "UxrB3aO6IPHa"
      },
      "source": [
        "#importing the libraries and packages required to run the given assignment\n",
        "import pandas as pd\n",
        "import numpy as np\n",
        "import matplotlib.pyplot as plt\n",
        "from google.colab import files\n",
        "%matplotlib inline"
      ],
      "execution_count": 1,
      "outputs": []
    },
    {
      "cell_type": "code",
      "metadata": {
        "colab": {
          "base_uri": "https://localhost:8080/"
        },
        "id": "PPESFtVUFT0q",
        "outputId": "f9378d63-746e-48b0-d655-ed2b56374991"
      },
      "source": [
        "#using gdrive to upload the dataset\n",
        "from google.colab import drive\n",
        "drive.mount('/content/gdrive')"
      ],
      "execution_count": 2,
      "outputs": [
        {
          "output_type": "stream",
          "name": "stdout",
          "text": [
            "Mounted at /content/gdrive\n"
          ]
        }
      ]
    },
    {
      "cell_type": "code",
      "metadata": {
        "colab": {
          "base_uri": "https://localhost:8080/",
          "height": 35
        },
        "id": "9jxwpi3LHtvz",
        "outputId": "3881fb3f-35d7-469c-a644-56488084ad5e"
      },
      "source": [
        "data =  \"./gdrive/My Drive/FDS_Dataset_Cleaned/Cleaned_Total.csv\"\n",
        "data"
      ],
      "execution_count": 3,
      "outputs": [
        {
          "output_type": "execute_result",
          "data": {
            "application/vnd.google.colaboratory.intrinsic+json": {
              "type": "string"
            },
            "text/plain": [
              "'./gdrive/My Drive/FDS_Dataset_Cleaned/Cleaned_Total.csv'"
            ]
          },
          "metadata": {},
          "execution_count": 3
        }
      ]
    },
    {
      "cell_type": "code",
      "metadata": {
        "colab": {
          "base_uri": "https://localhost:8080/"
        },
        "id": "33lEKW1qIQ1i",
        "outputId": "9a61246b-581c-43d5-b850-23587c57ad34"
      },
      "source": [
        "#Place your code here\n",
        "df = pd.read_csv(data)"
      ],
      "execution_count": 4,
      "outputs": [
        {
          "output_type": "stream",
          "name": "stderr",
          "text": [
            "/usr/local/lib/python3.7/dist-packages/IPython/core/interactiveshell.py:2718: DtypeWarning: Columns (22) have mixed types.Specify dtype option on import or set low_memory=False.\n",
            "  interactivity=interactivity, compiler=compiler, result=result)\n"
          ]
        }
      ]
    },
    {
      "cell_type": "code",
      "metadata": {
        "colab": {
          "base_uri": "https://localhost:8080/",
          "height": 392
        },
        "id": "kbkg9Sv-Irc8",
        "outputId": "a33c4b05-eb9d-4b93-84f9-c80748582278"
      },
      "source": [
        "#Displaying the top 5 rows\n",
        "df.head()"
      ],
      "execution_count": 5,
      "outputs": [
        {
          "output_type": "execute_result",
          "data": {
            "text/html": [
              "\n",
              "  <div id=\"df-580c671f-dac1-4519-bf19-6a7d04a972fc\">\n",
              "    <div class=\"colab-df-container\">\n",
              "      <div>\n",
              "<style scoped>\n",
              "    .dataframe tbody tr th:only-of-type {\n",
              "        vertical-align: middle;\n",
              "    }\n",
              "\n",
              "    .dataframe tbody tr th {\n",
              "        vertical-align: top;\n",
              "    }\n",
              "\n",
              "    .dataframe thead th {\n",
              "        text-align: right;\n",
              "    }\n",
              "</style>\n",
              "<table border=\"1\" class=\"dataframe\">\n",
              "  <thead>\n",
              "    <tr style=\"text-align: right;\">\n",
              "      <th></th>\n",
              "      <th>Unnamed: 0</th>\n",
              "      <th>CMPLNT_FR_DT</th>\n",
              "      <th>CMPLNT_FR_TM</th>\n",
              "      <th>CMPLNT_TO_DT</th>\n",
              "      <th>RPT_DT</th>\n",
              "      <th>KY_CD</th>\n",
              "      <th>OFNS_DESC</th>\n",
              "      <th>CRM_ATPT_CPTD_CD</th>\n",
              "      <th>LAW_CAT_CD</th>\n",
              "      <th>BORO_NM</th>\n",
              "      <th>LOC_OF_OCCUR_DESC</th>\n",
              "      <th>PREM_TYP_DESC</th>\n",
              "      <th>JURIS_DESC</th>\n",
              "      <th>JURISDICTION_CODE</th>\n",
              "      <th>Lat_Lon</th>\n",
              "      <th>VIC_AGE_GROUP</th>\n",
              "      <th>VIC_RACE</th>\n",
              "      <th>VIC_SEX</th>\n",
              "      <th>Start_Year</th>\n",
              "      <th>Start_Month</th>\n",
              "      <th>Start_Day</th>\n",
              "      <th>Start_Hour</th>\n",
              "      <th>At_Park</th>\n",
              "      <th>At_Train</th>\n",
              "    </tr>\n",
              "  </thead>\n",
              "  <tbody>\n",
              "    <tr>\n",
              "      <th>0</th>\n",
              "      <td>0</td>\n",
              "      <td>2019-12-31</td>\n",
              "      <td>2021-12-02 17:30:00</td>\n",
              "      <td>NaN</td>\n",
              "      <td>12/31/2019</td>\n",
              "      <td>118.0</td>\n",
              "      <td>DANGEROUS WEAPONS</td>\n",
              "      <td>COMPLETED</td>\n",
              "      <td>FELONY</td>\n",
              "      <td>MANHATTAN</td>\n",
              "      <td>NaN</td>\n",
              "      <td>STREET</td>\n",
              "      <td>N.Y. POLICE DEPT</td>\n",
              "      <td>0.0</td>\n",
              "      <td>(40.82092679700002, -73.94332421899996)</td>\n",
              "      <td>UNKNOWN</td>\n",
              "      <td>UNKNOWN</td>\n",
              "      <td>E</td>\n",
              "      <td>2019.0</td>\n",
              "      <td>12.0</td>\n",
              "      <td>31.0</td>\n",
              "      <td>17.0</td>\n",
              "      <td>0</td>\n",
              "      <td>1</td>\n",
              "    </tr>\n",
              "    <tr>\n",
              "      <th>1</th>\n",
              "      <td>1</td>\n",
              "      <td>2019-12-29</td>\n",
              "      <td>2021-12-02 16:31:00</td>\n",
              "      <td>12/29/2019</td>\n",
              "      <td>12/29/2019</td>\n",
              "      <td>113.0</td>\n",
              "      <td>FORGERY</td>\n",
              "      <td>COMPLETED</td>\n",
              "      <td>FELONY</td>\n",
              "      <td>BRONX</td>\n",
              "      <td>NaN</td>\n",
              "      <td>STREET</td>\n",
              "      <td>N.Y. POLICE DEPT</td>\n",
              "      <td>0.0</td>\n",
              "      <td>(40.885701406000074, -73.86164032499995)</td>\n",
              "      <td>UNKNOWN</td>\n",
              "      <td>UNKNOWN</td>\n",
              "      <td>E</td>\n",
              "      <td>2019.0</td>\n",
              "      <td>12.0</td>\n",
              "      <td>29.0</td>\n",
              "      <td>16.0</td>\n",
              "      <td>0</td>\n",
              "      <td>1</td>\n",
              "    </tr>\n",
              "    <tr>\n",
              "      <th>2</th>\n",
              "      <td>2</td>\n",
              "      <td>2019-12-15</td>\n",
              "      <td>2021-12-02 18:45:00</td>\n",
              "      <td>NaN</td>\n",
              "      <td>12/29/2019</td>\n",
              "      <td>578.0</td>\n",
              "      <td>HARRASSMENT 2</td>\n",
              "      <td>COMPLETED</td>\n",
              "      <td>VIOLATION</td>\n",
              "      <td>QUEENS</td>\n",
              "      <td>FRONT OF</td>\n",
              "      <td>STREET</td>\n",
              "      <td>N.Y. POLICE DEPT</td>\n",
              "      <td>0.0</td>\n",
              "      <td>(40.74228115600005, -73.81982408)</td>\n",
              "      <td>25-44</td>\n",
              "      <td>WHITE HISPANIC</td>\n",
              "      <td>F</td>\n",
              "      <td>2019.0</td>\n",
              "      <td>12.0</td>\n",
              "      <td>15.0</td>\n",
              "      <td>18.0</td>\n",
              "      <td>0</td>\n",
              "      <td>1</td>\n",
              "    </tr>\n",
              "    <tr>\n",
              "      <th>3</th>\n",
              "      <td>3</td>\n",
              "      <td>2019-12-28</td>\n",
              "      <td>2021-12-02 01:00:00</td>\n",
              "      <td>NaN</td>\n",
              "      <td>12/28/2019</td>\n",
              "      <td>126.0</td>\n",
              "      <td>MISCELLANEOUS PENAL LAW</td>\n",
              "      <td>COMPLETED</td>\n",
              "      <td>FELONY</td>\n",
              "      <td>BRONX</td>\n",
              "      <td>REAR OF</td>\n",
              "      <td>STREET</td>\n",
              "      <td>N.Y. POLICE DEPT</td>\n",
              "      <td>0.0</td>\n",
              "      <td>(40.87531145100007, -73.84754521099995)</td>\n",
              "      <td>UNKNOWN</td>\n",
              "      <td>UNKNOWN</td>\n",
              "      <td>E</td>\n",
              "      <td>2019.0</td>\n",
              "      <td>12.0</td>\n",
              "      <td>28.0</td>\n",
              "      <td>1.0</td>\n",
              "      <td>0</td>\n",
              "      <td>1</td>\n",
              "    </tr>\n",
              "    <tr>\n",
              "      <th>4</th>\n",
              "      <td>4</td>\n",
              "      <td>2008-09-05</td>\n",
              "      <td>2021-12-02 21:41:00</td>\n",
              "      <td>NaN</td>\n",
              "      <td>09/05/2008</td>\n",
              "      <td>101.0</td>\n",
              "      <td>MURDER &amp; NON-NEGL. MANSLAUGHTER</td>\n",
              "      <td>COMPLETED</td>\n",
              "      <td>FELONY</td>\n",
              "      <td>NaN</td>\n",
              "      <td>OUTSIDE</td>\n",
              "      <td>NaN</td>\n",
              "      <td>N.Y. POLICE DEPT</td>\n",
              "      <td>NaN</td>\n",
              "      <td>(40.698827283, -73.938819047)</td>\n",
              "      <td>25-44</td>\n",
              "      <td>BLACK</td>\n",
              "      <td>M</td>\n",
              "      <td>2008.0</td>\n",
              "      <td>9.0</td>\n",
              "      <td>5.0</td>\n",
              "      <td>21.0</td>\n",
              "      <td>0</td>\n",
              "      <td>1</td>\n",
              "    </tr>\n",
              "  </tbody>\n",
              "</table>\n",
              "</div>\n",
              "      <button class=\"colab-df-convert\" onclick=\"convertToInteractive('df-580c671f-dac1-4519-bf19-6a7d04a972fc')\"\n",
              "              title=\"Convert this dataframe to an interactive table.\"\n",
              "              style=\"display:none;\">\n",
              "        \n",
              "  <svg xmlns=\"http://www.w3.org/2000/svg\" height=\"24px\"viewBox=\"0 0 24 24\"\n",
              "       width=\"24px\">\n",
              "    <path d=\"M0 0h24v24H0V0z\" fill=\"none\"/>\n",
              "    <path d=\"M18.56 5.44l.94 2.06.94-2.06 2.06-.94-2.06-.94-.94-2.06-.94 2.06-2.06.94zm-11 1L8.5 8.5l.94-2.06 2.06-.94-2.06-.94L8.5 2.5l-.94 2.06-2.06.94zm10 10l.94 2.06.94-2.06 2.06-.94-2.06-.94-.94-2.06-.94 2.06-2.06.94z\"/><path d=\"M17.41 7.96l-1.37-1.37c-.4-.4-.92-.59-1.43-.59-.52 0-1.04.2-1.43.59L10.3 9.45l-7.72 7.72c-.78.78-.78 2.05 0 2.83L4 21.41c.39.39.9.59 1.41.59.51 0 1.02-.2 1.41-.59l7.78-7.78 2.81-2.81c.8-.78.8-2.07 0-2.86zM5.41 20L4 18.59l7.72-7.72 1.47 1.35L5.41 20z\"/>\n",
              "  </svg>\n",
              "      </button>\n",
              "      \n",
              "  <style>\n",
              "    .colab-df-container {\n",
              "      display:flex;\n",
              "      flex-wrap:wrap;\n",
              "      gap: 12px;\n",
              "    }\n",
              "\n",
              "    .colab-df-convert {\n",
              "      background-color: #E8F0FE;\n",
              "      border: none;\n",
              "      border-radius: 50%;\n",
              "      cursor: pointer;\n",
              "      display: none;\n",
              "      fill: #1967D2;\n",
              "      height: 32px;\n",
              "      padding: 0 0 0 0;\n",
              "      width: 32px;\n",
              "    }\n",
              "\n",
              "    .colab-df-convert:hover {\n",
              "      background-color: #E2EBFA;\n",
              "      box-shadow: 0px 1px 2px rgba(60, 64, 67, 0.3), 0px 1px 3px 1px rgba(60, 64, 67, 0.15);\n",
              "      fill: #174EA6;\n",
              "    }\n",
              "\n",
              "    [theme=dark] .colab-df-convert {\n",
              "      background-color: #3B4455;\n",
              "      fill: #D2E3FC;\n",
              "    }\n",
              "\n",
              "    [theme=dark] .colab-df-convert:hover {\n",
              "      background-color: #434B5C;\n",
              "      box-shadow: 0px 1px 3px 1px rgba(0, 0, 0, 0.15);\n",
              "      filter: drop-shadow(0px 1px 2px rgba(0, 0, 0, 0.3));\n",
              "      fill: #FFFFFF;\n",
              "    }\n",
              "  </style>\n",
              "\n",
              "      <script>\n",
              "        const buttonEl =\n",
              "          document.querySelector('#df-580c671f-dac1-4519-bf19-6a7d04a972fc button.colab-df-convert');\n",
              "        buttonEl.style.display =\n",
              "          google.colab.kernel.accessAllowed ? 'block' : 'none';\n",
              "\n",
              "        async function convertToInteractive(key) {\n",
              "          const element = document.querySelector('#df-580c671f-dac1-4519-bf19-6a7d04a972fc');\n",
              "          const dataTable =\n",
              "            await google.colab.kernel.invokeFunction('convertToInteractive',\n",
              "                                                     [key], {});\n",
              "          if (!dataTable) return;\n",
              "\n",
              "          const docLinkHtml = 'Like what you see? Visit the ' +\n",
              "            '<a target=\"_blank\" href=https://colab.research.google.com/notebooks/data_table.ipynb>data table notebook</a>'\n",
              "            + ' to learn more about interactive tables.';\n",
              "          element.innerHTML = '';\n",
              "          dataTable['output_type'] = 'display_data';\n",
              "          await google.colab.output.renderOutput(dataTable, element);\n",
              "          const docLink = document.createElement('div');\n",
              "          docLink.innerHTML = docLinkHtml;\n",
              "          element.appendChild(docLink);\n",
              "        }\n",
              "      </script>\n",
              "    </div>\n",
              "  </div>\n",
              "  "
            ],
            "text/plain": [
              "   Unnamed: 0 CMPLNT_FR_DT         CMPLNT_FR_TM  ... Start_Hour At_Park  At_Train\n",
              "0           0   2019-12-31  2021-12-02 17:30:00  ...       17.0       0         1\n",
              "1           1   2019-12-29  2021-12-02 16:31:00  ...       16.0       0         1\n",
              "2           2   2019-12-15  2021-12-02 18:45:00  ...       18.0       0         1\n",
              "3           3   2019-12-28  2021-12-02 01:00:00  ...        1.0       0         1\n",
              "4           4   2008-09-05  2021-12-02 21:41:00  ...       21.0       0         1\n",
              "\n",
              "[5 rows x 24 columns]"
            ]
          },
          "metadata": {},
          "execution_count": 5
        }
      ]
    },
    {
      "cell_type": "code",
      "metadata": {
        "colab": {
          "base_uri": "https://localhost:8080/"
        },
        "id": "VHPPyzbAIvja",
        "outputId": "056bfde3-ae5e-4498-b129-b2963b274c84"
      },
      "source": [
        "#Getting an overview of the DataFrame\n",
        "df.info()"
      ],
      "execution_count": 7,
      "outputs": [
        {
          "output_type": "stream",
          "name": "stdout",
          "text": [
            "<class 'pandas.core.frame.DataFrame'>\n",
            "RangeIndex: 6826005 entries, 0 to 6826004\n",
            "Data columns (total 24 columns):\n",
            " #   Column             Dtype  \n",
            "---  ------             -----  \n",
            " 0   Unnamed: 0         int64  \n",
            " 1   CMPLNT_FR_DT       object \n",
            " 2   CMPLNT_FR_TM       object \n",
            " 3   CMPLNT_TO_DT       object \n",
            " 4   RPT_DT             object \n",
            " 5   KY_CD              float64\n",
            " 6   OFNS_DESC          object \n",
            " 7   CRM_ATPT_CPTD_CD   object \n",
            " 8   LAW_CAT_CD         object \n",
            " 9   BORO_NM            object \n",
            " 10  LOC_OF_OCCUR_DESC  object \n",
            " 11  PREM_TYP_DESC      object \n",
            " 12  JURIS_DESC         object \n",
            " 13  JURISDICTION_CODE  float64\n",
            " 14  Lat_Lon            object \n",
            " 15  VIC_AGE_GROUP      object \n",
            " 16  VIC_RACE           object \n",
            " 17  VIC_SEX            object \n",
            " 18  Start_Year         float64\n",
            " 19  Start_Month        float64\n",
            " 20  Start_Day          float64\n",
            " 21  Start_Hour         float64\n",
            " 22  At_Park            object \n",
            " 23  At_Train           int64  \n",
            "dtypes: float64(6), int64(2), object(16)\n",
            "memory usage: 1.2+ GB\n"
          ]
        }
      ]
    },
    {
      "cell_type": "code",
      "metadata": {
        "colab": {
          "base_uri": "https://localhost:8080/",
          "height": 573
        },
        "id": "C3s6-XdoJBX4",
        "outputId": "31ba6cf1-2954-4782-fa71-06eba2881ed4"
      },
      "source": [
        "#Creating a new dataset for crimes which took place in Manhattan\n",
        "df_manhattan = df[df['BORO_NM'] == 'MANHATTAN']\n",
        "df_manhattan.info()\n",
        "df_manhattan.to_csv('Manhattan.csv')\n",
        "files.download('Manhattan.csv')"
      ],
      "execution_count": 8,
      "outputs": [
        {
          "output_type": "stream",
          "name": "stdout",
          "text": [
            "<class 'pandas.core.frame.DataFrame'>\n",
            "Int64Index: 1639568 entries, 0 to 6826003\n",
            "Data columns (total 24 columns):\n",
            " #   Column             Non-Null Count    Dtype  \n",
            "---  ------             --------------    -----  \n",
            " 0   Unnamed: 0         1639568 non-null  int64  \n",
            " 1   CMPLNT_FR_DT       1639568 non-null  object \n",
            " 2   CMPLNT_FR_TM       1639556 non-null  object \n",
            " 3   CMPLNT_TO_DT       1266731 non-null  object \n",
            " 4   RPT_DT             1639568 non-null  object \n",
            " 5   KY_CD              1639568 non-null  float64\n",
            " 6   OFNS_DESC          1634427 non-null  object \n",
            " 7   CRM_ATPT_CPTD_CD   1639567 non-null  object \n",
            " 8   LAW_CAT_CD         1639568 non-null  object \n",
            " 9   BORO_NM            1639568 non-null  object \n",
            " 10  LOC_OF_OCCUR_DESC  1303025 non-null  object \n",
            " 11  PREM_TYP_DESC      1628312 non-null  object \n",
            " 12  JURIS_DESC         1639568 non-null  object \n",
            " 13  JURISDICTION_CODE  1639568 non-null  float64\n",
            " 14  Lat_Lon            1639559 non-null  object \n",
            " 15  VIC_AGE_GROUP      1639568 non-null  object \n",
            " 16  VIC_RACE           1639568 non-null  object \n",
            " 17  VIC_SEX            1639568 non-null  object \n",
            " 18  Start_Year         1639568 non-null  float64\n",
            " 19  Start_Month        1639568 non-null  float64\n",
            " 20  Start_Day          1639568 non-null  float64\n",
            " 21  Start_Hour         1639556 non-null  float64\n",
            " 22  At_Park            1639568 non-null  object \n",
            " 23  At_Train           1639568 non-null  int64  \n",
            "dtypes: float64(6), int64(2), object(16)\n",
            "memory usage: 312.7+ MB\n"
          ]
        },
        {
          "output_type": "display_data",
          "data": {
            "application/javascript": [
              "\n",
              "    async function download(id, filename, size) {\n",
              "      if (!google.colab.kernel.accessAllowed) {\n",
              "        return;\n",
              "      }\n",
              "      const div = document.createElement('div');\n",
              "      const label = document.createElement('label');\n",
              "      label.textContent = `Downloading \"${filename}\": `;\n",
              "      div.appendChild(label);\n",
              "      const progress = document.createElement('progress');\n",
              "      progress.max = size;\n",
              "      div.appendChild(progress);\n",
              "      document.body.appendChild(div);\n",
              "\n",
              "      const buffers = [];\n",
              "      let downloaded = 0;\n",
              "\n",
              "      const channel = await google.colab.kernel.comms.open(id);\n",
              "      // Send a message to notify the kernel that we're ready.\n",
              "      channel.send({})\n",
              "\n",
              "      for await (const message of channel.messages) {\n",
              "        // Send a message to notify the kernel that we're ready.\n",
              "        channel.send({})\n",
              "        if (message.buffers) {\n",
              "          for (const buffer of message.buffers) {\n",
              "            buffers.push(buffer);\n",
              "            downloaded += buffer.byteLength;\n",
              "            progress.value = downloaded;\n",
              "          }\n",
              "        }\n",
              "      }\n",
              "      const blob = new Blob(buffers, {type: 'application/binary'});\n",
              "      const a = document.createElement('a');\n",
              "      a.href = window.URL.createObjectURL(blob);\n",
              "      a.download = filename;\n",
              "      div.appendChild(a);\n",
              "      a.click();\n",
              "      div.remove();\n",
              "    }\n",
              "  "
            ],
            "text/plain": [
              "<IPython.core.display.Javascript object>"
            ]
          },
          "metadata": {}
        },
        {
          "output_type": "display_data",
          "data": {
            "application/javascript": [
              "download(\"download_50c3c36f-bd44-4085-a6f9-6defc5de16b7\", \"Manhattan.csv\", 393831343)"
            ],
            "text/plain": [
              "<IPython.core.display.Javascript object>"
            ]
          },
          "metadata": {}
        }
      ]
    },
    {
      "cell_type": "code",
      "metadata": {
        "colab": {
          "base_uri": "https://localhost:8080/",
          "height": 573
        },
        "id": "Kr6WLcbwKP57",
        "outputId": "ae6c5164-11b2-4962-9dea-7d12a714ecbe"
      },
      "source": [
        "#Creating a new dataset for crimes which took place in Queens\n",
        "df_queens = df[df['BORO_NM'] == 'QUEENS']\n",
        "df_queens.info()\n",
        "df_queens.to_csv('Queens.csv')\n",
        "files.download('Queens.csv')"
      ],
      "execution_count": 9,
      "outputs": [
        {
          "output_type": "stream",
          "name": "stdout",
          "text": [
            "<class 'pandas.core.frame.DataFrame'>\n",
            "Int64Index: 1353757 entries, 2 to 6826004\n",
            "Data columns (total 24 columns):\n",
            " #   Column             Non-Null Count    Dtype  \n",
            "---  ------             --------------    -----  \n",
            " 0   Unnamed: 0         1353757 non-null  int64  \n",
            " 1   CMPLNT_FR_DT       1353757 non-null  object \n",
            " 2   CMPLNT_FR_TM       1353748 non-null  object \n",
            " 3   CMPLNT_TO_DT       1151113 non-null  object \n",
            " 4   RPT_DT             1353757 non-null  object \n",
            " 5   KY_CD              1353757 non-null  float64\n",
            " 6   OFNS_DESC          1350744 non-null  object \n",
            " 7   CRM_ATPT_CPTD_CD   1353756 non-null  object \n",
            " 8   LAW_CAT_CD         1353757 non-null  object \n",
            " 9   BORO_NM            1353757 non-null  object \n",
            " 10  LOC_OF_OCCUR_DESC  1062302 non-null  object \n",
            " 11  PREM_TYP_DESC      1349500 non-null  object \n",
            " 12  JURIS_DESC         1353757 non-null  object \n",
            " 13  JURISDICTION_CODE  1353757 non-null  float64\n",
            " 14  Lat_Lon            1353756 non-null  object \n",
            " 15  VIC_AGE_GROUP      1353757 non-null  object \n",
            " 16  VIC_RACE           1353757 non-null  object \n",
            " 17  VIC_SEX            1353757 non-null  object \n",
            " 18  Start_Year         1353757 non-null  float64\n",
            " 19  Start_Month        1353757 non-null  float64\n",
            " 20  Start_Day          1353757 non-null  float64\n",
            " 21  Start_Hour         1353748 non-null  float64\n",
            " 22  At_Park            1353757 non-null  object \n",
            " 23  At_Train           1353757 non-null  int64  \n",
            "dtypes: float64(6), int64(2), object(16)\n",
            "memory usage: 258.2+ MB\n"
          ]
        },
        {
          "output_type": "display_data",
          "data": {
            "application/javascript": [
              "\n",
              "    async function download(id, filename, size) {\n",
              "      if (!google.colab.kernel.accessAllowed) {\n",
              "        return;\n",
              "      }\n",
              "      const div = document.createElement('div');\n",
              "      const label = document.createElement('label');\n",
              "      label.textContent = `Downloading \"${filename}\": `;\n",
              "      div.appendChild(label);\n",
              "      const progress = document.createElement('progress');\n",
              "      progress.max = size;\n",
              "      div.appendChild(progress);\n",
              "      document.body.appendChild(div);\n",
              "\n",
              "      const buffers = [];\n",
              "      let downloaded = 0;\n",
              "\n",
              "      const channel = await google.colab.kernel.comms.open(id);\n",
              "      // Send a message to notify the kernel that we're ready.\n",
              "      channel.send({})\n",
              "\n",
              "      for await (const message of channel.messages) {\n",
              "        // Send a message to notify the kernel that we're ready.\n",
              "        channel.send({})\n",
              "        if (message.buffers) {\n",
              "          for (const buffer of message.buffers) {\n",
              "            buffers.push(buffer);\n",
              "            downloaded += buffer.byteLength;\n",
              "            progress.value = downloaded;\n",
              "          }\n",
              "        }\n",
              "      }\n",
              "      const blob = new Blob(buffers, {type: 'application/binary'});\n",
              "      const a = document.createElement('a');\n",
              "      a.href = window.URL.createObjectURL(blob);\n",
              "      a.download = filename;\n",
              "      div.appendChild(a);\n",
              "      a.click();\n",
              "      div.remove();\n",
              "    }\n",
              "  "
            ],
            "text/plain": [
              "<IPython.core.display.Javascript object>"
            ]
          },
          "metadata": {}
        },
        {
          "output_type": "display_data",
          "data": {
            "application/javascript": [
              "download(\"download_274fa8a3-0c73-4891-849b-b70ada02e641\", \"Queens.csv\", 324028086)"
            ],
            "text/plain": [
              "<IPython.core.display.Javascript object>"
            ]
          },
          "metadata": {}
        }
      ]
    },
    {
      "cell_type": "code",
      "metadata": {
        "colab": {
          "base_uri": "https://localhost:8080/"
        },
        "id": "Nc8m2pkpKaZR",
        "outputId": "b92ed238-4b06-4f59-f417-b1555a5394f5"
      },
      "source": [
        "#Creating a new dataset for crimes which took place in Bronx\n",
        "df_bronx = df[df['BORO_NM'] == 'BRONX']\n",
        "df_bronx.info()\n",
        "df_bronx.to_csv('Bronx.csv')"
      ],
      "execution_count": 10,
      "outputs": [
        {
          "output_type": "stream",
          "name": "stdout",
          "text": [
            "<class 'pandas.core.frame.DataFrame'>\n",
            "Int64Index: 1484733 entries, 1 to 6826002\n",
            "Data columns (total 24 columns):\n",
            " #   Column             Non-Null Count    Dtype  \n",
            "---  ------             --------------    -----  \n",
            " 0   Unnamed: 0         1484733 non-null  int64  \n",
            " 1   CMPLNT_FR_DT       1484733 non-null  object \n",
            " 2   CMPLNT_FR_TM       1484725 non-null  object \n",
            " 3   CMPLNT_TO_DT       1019281 non-null  object \n",
            " 4   RPT_DT             1484733 non-null  object \n",
            " 5   KY_CD              1484733 non-null  float64\n",
            " 6   OFNS_DESC          1481579 non-null  object \n",
            " 7   CRM_ATPT_CPTD_CD   1484732 non-null  object \n",
            " 8   LAW_CAT_CD         1484733 non-null  object \n",
            " 9   BORO_NM            1484733 non-null  object \n",
            " 10  LOC_OF_OCCUR_DESC  1154805 non-null  object \n",
            " 11  PREM_TYP_DESC      1479581 non-null  object \n",
            " 12  JURIS_DESC         1484733 non-null  object \n",
            " 13  JURISDICTION_CODE  1484733 non-null  float64\n",
            " 14  Lat_Lon            1484602 non-null  object \n",
            " 15  VIC_AGE_GROUP      1484733 non-null  object \n",
            " 16  VIC_RACE           1484733 non-null  object \n",
            " 17  VIC_SEX            1484733 non-null  object \n",
            " 18  Start_Year         1484733 non-null  float64\n",
            " 19  Start_Month        1484733 non-null  float64\n",
            " 20  Start_Day          1484733 non-null  float64\n",
            " 21  Start_Hour         1484725 non-null  float64\n",
            " 22  At_Park            1484733 non-null  object \n",
            " 23  At_Train           1484733 non-null  int64  \n",
            "dtypes: float64(6), int64(2), object(16)\n",
            "memory usage: 283.2+ MB\n"
          ]
        }
      ]
    },
    {
      "cell_type": "code",
      "metadata": {
        "colab": {
          "base_uri": "https://localhost:8080/"
        },
        "id": "eS6bttglKj9g",
        "outputId": "e1ec08b0-25e5-49a9-fe1e-e87130fb267f"
      },
      "source": [
        "#Creating a new dataset for crimes which took place in Brooklyn\n",
        "df_brooklyn = df[df['BORO_NM'] == 'BROOKLYN']\n",
        "df_brooklyn.info()\n",
        "df_brooklyn.to_csv('Brooklyn.csv')"
      ],
      "execution_count": 11,
      "outputs": [
        {
          "output_type": "stream",
          "name": "stdout",
          "text": [
            "<class 'pandas.core.frame.DataFrame'>\n",
            "Int64Index: 2022480 entries, 6 to 6825997\n",
            "Data columns (total 24 columns):\n",
            " #   Column             Dtype  \n",
            "---  ------             -----  \n",
            " 0   Unnamed: 0         int64  \n",
            " 1   CMPLNT_FR_DT       object \n",
            " 2   CMPLNT_FR_TM       object \n",
            " 3   CMPLNT_TO_DT       object \n",
            " 4   RPT_DT             object \n",
            " 5   KY_CD              float64\n",
            " 6   OFNS_DESC          object \n",
            " 7   CRM_ATPT_CPTD_CD   object \n",
            " 8   LAW_CAT_CD         object \n",
            " 9   BORO_NM            object \n",
            " 10  LOC_OF_OCCUR_DESC  object \n",
            " 11  PREM_TYP_DESC      object \n",
            " 12  JURIS_DESC         object \n",
            " 13  JURISDICTION_CODE  float64\n",
            " 14  Lat_Lon            object \n",
            " 15  VIC_AGE_GROUP      object \n",
            " 16  VIC_RACE           object \n",
            " 17  VIC_SEX            object \n",
            " 18  Start_Year         float64\n",
            " 19  Start_Month        float64\n",
            " 20  Start_Day          float64\n",
            " 21  Start_Hour         float64\n",
            " 22  At_Park            object \n",
            " 23  At_Train           int64  \n",
            "dtypes: float64(6), int64(2), object(16)\n",
            "memory usage: 385.8+ MB\n"
          ]
        }
      ]
    },
    {
      "cell_type": "code",
      "metadata": {
        "colab": {
          "base_uri": "https://localhost:8080/"
        },
        "id": "j-aJjPdQKxjW",
        "outputId": "4cdab647-8b50-4229-e8bc-aece440001e4"
      },
      "source": [
        "#Creating a new dataset for crimes which took place in Staten Island\n",
        "df_staten = df[df['BORO_NM'] == 'STATEN ISLAND']\n",
        "df_staten.info()\n",
        "df_staten.to_csv('Staten.csv')"
      ],
      "execution_count": 12,
      "outputs": [
        {
          "output_type": "stream",
          "name": "stdout",
          "text": [
            "<class 'pandas.core.frame.DataFrame'>\n",
            "Int64Index: 314910 entries, 50 to 6825995\n",
            "Data columns (total 24 columns):\n",
            " #   Column             Non-Null Count   Dtype  \n",
            "---  ------             --------------   -----  \n",
            " 0   Unnamed: 0         314910 non-null  int64  \n",
            " 1   CMPLNT_FR_DT       314910 non-null  object \n",
            " 2   CMPLNT_FR_TM       314909 non-null  object \n",
            " 3   CMPLNT_TO_DT       235473 non-null  object \n",
            " 4   RPT_DT             314910 non-null  object \n",
            " 5   KY_CD              314910 non-null  float64\n",
            " 6   OFNS_DESC          314450 non-null  object \n",
            " 7   CRM_ATPT_CPTD_CD   314910 non-null  object \n",
            " 8   LAW_CAT_CD         314910 non-null  object \n",
            " 9   BORO_NM            314910 non-null  object \n",
            " 10  LOC_OF_OCCUR_DESC  266350 non-null  object \n",
            " 11  PREM_TYP_DESC      314095 non-null  object \n",
            " 12  JURIS_DESC         314910 non-null  object \n",
            " 13  JURISDICTION_CODE  314910 non-null  float64\n",
            " 14  Lat_Lon            314910 non-null  object \n",
            " 15  VIC_AGE_GROUP      314910 non-null  object \n",
            " 16  VIC_RACE           314910 non-null  object \n",
            " 17  VIC_SEX            314910 non-null  object \n",
            " 18  Start_Year         314910 non-null  float64\n",
            " 19  Start_Month        314910 non-null  float64\n",
            " 20  Start_Day          314910 non-null  float64\n",
            " 21  Start_Hour         314909 non-null  float64\n",
            " 22  At_Park            314910 non-null  object \n",
            " 23  At_Train           314910 non-null  int64  \n",
            "dtypes: float64(6), int64(2), object(16)\n",
            "memory usage: 60.1+ MB\n"
          ]
        }
      ]
    },
    {
      "cell_type": "code",
      "metadata": {
        "colab": {
          "base_uri": "https://localhost:8080/"
        },
        "id": "2uGb_jV2K5m_",
        "outputId": "7a0df456-829f-443e-9ad9-75cb072d21c8"
      },
      "source": [
        "#Creating a new dataset for crimes which have Null Values in the Borough column\n",
        "df_nan = df[df['BORO_NM'].isnull()]\n",
        "df_nan.info()\n",
        "df_nan.to_csv('NaN.csv')"
      ],
      "execution_count": 13,
      "outputs": [
        {
          "output_type": "stream",
          "name": "stdout",
          "text": [
            "<class 'pandas.core.frame.DataFrame'>\n",
            "Int64Index: 10557 entries, 4 to 6814679\n",
            "Data columns (total 24 columns):\n",
            " #   Column             Non-Null Count  Dtype  \n",
            "---  ------             --------------  -----  \n",
            " 0   Unnamed: 0         10557 non-null  int64  \n",
            " 1   CMPLNT_FR_DT       10557 non-null  object \n",
            " 2   CMPLNT_FR_TM       10557 non-null  object \n",
            " 3   CMPLNT_TO_DT       3584 non-null   object \n",
            " 4   RPT_DT             10557 non-null  object \n",
            " 5   KY_CD              10557 non-null  float64\n",
            " 6   OFNS_DESC          10529 non-null  object \n",
            " 7   CRM_ATPT_CPTD_CD   10557 non-null  object \n",
            " 8   LAW_CAT_CD         10557 non-null  object \n",
            " 9   BORO_NM            0 non-null      object \n",
            " 10  LOC_OF_OCCUR_DESC  9263 non-null   object \n",
            " 11  PREM_TYP_DESC      4975 non-null   object \n",
            " 12  JURIS_DESC         10557 non-null  object \n",
            " 13  JURISDICTION_CODE  5013 non-null   float64\n",
            " 14  Lat_Lon            10194 non-null  object \n",
            " 15  VIC_AGE_GROUP      10557 non-null  object \n",
            " 16  VIC_RACE           10557 non-null  object \n",
            " 17  VIC_SEX            10557 non-null  object \n",
            " 18  Start_Year         10557 non-null  float64\n",
            " 19  Start_Month        10557 non-null  float64\n",
            " 20  Start_Day          10557 non-null  float64\n",
            " 21  Start_Hour         10557 non-null  float64\n",
            " 22  At_Park            10557 non-null  object \n",
            " 23  At_Train           10557 non-null  int64  \n",
            "dtypes: float64(6), int64(2), object(16)\n",
            "memory usage: 2.0+ MB\n"
          ]
        }
      ]
    }
  ]
}